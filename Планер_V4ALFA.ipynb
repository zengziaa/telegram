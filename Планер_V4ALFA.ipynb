{
  "cells": [
    {
      "cell_type": "code",
      "execution_count": 1,
      "metadata": {
        "colab": {
          "base_uri": "https://localhost:8080/"
        },
        "id": "_-SQf57nz6z4",
        "outputId": "48bf5fcd-b6ff-41af-e443-8f3a68b1bad2"
      },
      "outputs": [
        {
          "output_type": "stream",
          "name": "stdout",
          "text": [
            "Collecting ngrok\n",
            "  Downloading ngrok-1.4.0-cp37-abi3-manylinux_2_17_x86_64.manylinux2014_x86_64.whl.metadata (19 kB)\n",
            "Downloading ngrok-1.4.0-cp37-abi3-manylinux_2_17_x86_64.manylinux2014_x86_64.whl (3.1 MB)\n",
            "\u001b[2K   \u001b[90m━━━━━━━━━━━━━━━━━━━━━━━━━━━━━━━━━━━━━━━━\u001b[0m \u001b[32m3.1/3.1 MB\u001b[0m \u001b[31m18.4 MB/s\u001b[0m eta \u001b[36m0:00:00\u001b[0m\n",
            "\u001b[?25hInstalling collected packages: ngrok\n",
            "Successfully installed ngrok-1.4.0\n"
          ]
        }
      ],
      "source": [
        "!pip install ngrok"
      ]
    },
    {
      "cell_type": "code",
      "execution_count": 2,
      "metadata": {
        "id": "TC43wB1M0qhU"
      },
      "outputs": [],
      "source": [
        "from ngrok import ngrok\n",
        "public_url = ngrok.connect(port='5000')"
      ]
    },
    {
      "cell_type": "code",
      "execution_count": 3,
      "metadata": {
        "colab": {
          "base_uri": "https://localhost:8080/"
        },
        "id": "RBgt0ntQ4BJe",
        "outputId": "45d9b353-83f4-42a5-dd96-b24827e8b1ea"
      },
      "outputs": [
        {
          "output_type": "stream",
          "name": "stdout",
          "text": [
            "Collecting python-telegram-bot\n",
            "  Downloading python_telegram_bot-21.11.1-py3-none-any.whl.metadata (17 kB)\n",
            "Requirement already satisfied: httpx~=0.27 in /usr/local/lib/python3.11/dist-packages (from python-telegram-bot) (0.28.1)\n",
            "Requirement already satisfied: anyio in /usr/local/lib/python3.11/dist-packages (from httpx~=0.27->python-telegram-bot) (3.7.1)\n",
            "Requirement already satisfied: certifi in /usr/local/lib/python3.11/dist-packages (from httpx~=0.27->python-telegram-bot) (2025.1.31)\n",
            "Requirement already satisfied: httpcore==1.* in /usr/local/lib/python3.11/dist-packages (from httpx~=0.27->python-telegram-bot) (1.0.7)\n",
            "Requirement already satisfied: idna in /usr/local/lib/python3.11/dist-packages (from httpx~=0.27->python-telegram-bot) (3.10)\n",
            "Requirement already satisfied: h11<0.15,>=0.13 in /usr/local/lib/python3.11/dist-packages (from httpcore==1.*->httpx~=0.27->python-telegram-bot) (0.14.0)\n",
            "Requirement already satisfied: sniffio>=1.1 in /usr/local/lib/python3.11/dist-packages (from anyio->httpx~=0.27->python-telegram-bot) (1.3.1)\n",
            "Downloading python_telegram_bot-21.11.1-py3-none-any.whl (676 kB)\n",
            "\u001b[2K   \u001b[90m━━━━━━━━━━━━━━━━━━━━━━━━━━━━━━━━━━━━━━━━\u001b[0m \u001b[32m676.1/676.1 kB\u001b[0m \u001b[31m17.6 MB/s\u001b[0m eta \u001b[36m0:00:00\u001b[0m\n",
            "\u001b[?25hInstalling collected packages: python-telegram-bot\n",
            "Successfully installed python-telegram-bot-21.11.1\n"
          ]
        }
      ],
      "source": [
        "pip install python-telegram-bot"
      ]
    },
    {
      "cell_type": "code",
      "execution_count": 4,
      "metadata": {
        "colab": {
          "base_uri": "https://localhost:8080/"
        },
        "id": "IEOSZpvL4EIG",
        "outputId": "6f76834d-57d2-40b3-dc6b-609dab40fa5f"
      },
      "outputs": [
        {
          "output_type": "stream",
          "name": "stdout",
          "text": [
            "Requirement already satisfied: requests in /usr/local/lib/python3.11/dist-packages (2.32.3)\n",
            "Requirement already satisfied: charset-normalizer<4,>=2 in /usr/local/lib/python3.11/dist-packages (from requests) (3.4.1)\n",
            "Requirement already satisfied: idna<4,>=2.5 in /usr/local/lib/python3.11/dist-packages (from requests) (3.10)\n",
            "Requirement already satisfied: urllib3<3,>=1.21.1 in /usr/local/lib/python3.11/dist-packages (from requests) (2.3.0)\n",
            "Requirement already satisfied: certifi>=2017.4.17 in /usr/local/lib/python3.11/dist-packages (from requests) (2025.1.31)\n"
          ]
        }
      ],
      "source": [
        "pip install requests"
      ]
    },
    {
      "cell_type": "code",
      "execution_count": 5,
      "metadata": {
        "colab": {
          "base_uri": "https://localhost:8080/"
        },
        "id": "MxpFuIkWJxPB",
        "outputId": "60fc66a3-0171-42ce-868e-9dbd94679f5a"
      },
      "outputs": [
        {
          "output_type": "stream",
          "name": "stdout",
          "text": [
            "Requirement already satisfied: python-telegram-bot in /usr/local/lib/python3.11/dist-packages (21.11.1)\n",
            "Requirement already satisfied: nest_asyncio in /usr/local/lib/python3.11/dist-packages (1.6.0)\n",
            "Requirement already satisfied: httpx~=0.27 in /usr/local/lib/python3.11/dist-packages (from python-telegram-bot) (0.28.1)\n",
            "Requirement already satisfied: anyio in /usr/local/lib/python3.11/dist-packages (from httpx~=0.27->python-telegram-bot) (3.7.1)\n",
            "Requirement already satisfied: certifi in /usr/local/lib/python3.11/dist-packages (from httpx~=0.27->python-telegram-bot) (2025.1.31)\n",
            "Requirement already satisfied: httpcore==1.* in /usr/local/lib/python3.11/dist-packages (from httpx~=0.27->python-telegram-bot) (1.0.7)\n",
            "Requirement already satisfied: idna in /usr/local/lib/python3.11/dist-packages (from httpx~=0.27->python-telegram-bot) (3.10)\n",
            "Requirement already satisfied: h11<0.15,>=0.13 in /usr/local/lib/python3.11/dist-packages (from httpcore==1.*->httpx~=0.27->python-telegram-bot) (0.14.0)\n",
            "Requirement already satisfied: sniffio>=1.1 in /usr/local/lib/python3.11/dist-packages (from anyio->httpx~=0.27->python-telegram-bot) (1.3.1)\n"
          ]
        }
      ],
      "source": [
        "pip install python-telegram-bot nest_asyncio"
      ]
    },
    {
      "cell_type": "code",
      "execution_count": 6,
      "metadata": {
        "colab": {
          "base_uri": "https://localhost:8080/"
        },
        "id": "XuVb7EeoMgdy",
        "outputId": "5ea00e4c-e0aa-4186-bbcf-682c1eaff8d5"
      },
      "outputs": [
        {
          "output_type": "stream",
          "name": "stdout",
          "text": [
            "Requirement already satisfied: nest_asyncio in /usr/local/lib/python3.11/dist-packages (1.6.0)\n"
          ]
        }
      ],
      "source": [
        "pip install nest_asyncio"
      ]
    },
    {
      "cell_type": "code",
      "execution_count": 7,
      "metadata": {
        "colab": {
          "base_uri": "https://localhost:8080/"
        },
        "id": "Lhq9d71PQHtr",
        "outputId": "62a491f8-904a-4e6b-9704-dd725fa9c8f3"
      },
      "outputs": [
        {
          "output_type": "stream",
          "name": "stdout",
          "text": [
            "Requirement already satisfied: python-telegram-bot in /usr/local/lib/python3.11/dist-packages (21.11.1)\n",
            "Requirement already satisfied: httpx in /usr/local/lib/python3.11/dist-packages (0.28.1)\n",
            "Requirement already satisfied: anyio in /usr/local/lib/python3.11/dist-packages (from httpx) (3.7.1)\n",
            "Requirement already satisfied: certifi in /usr/local/lib/python3.11/dist-packages (from httpx) (2025.1.31)\n",
            "Requirement already satisfied: httpcore==1.* in /usr/local/lib/python3.11/dist-packages (from httpx) (1.0.7)\n",
            "Requirement already satisfied: idna in /usr/local/lib/python3.11/dist-packages (from httpx) (3.10)\n",
            "Requirement already satisfied: h11<0.15,>=0.13 in /usr/local/lib/python3.11/dist-packages (from httpcore==1.*->httpx) (0.14.0)\n",
            "Requirement already satisfied: sniffio>=1.1 in /usr/local/lib/python3.11/dist-packages (from anyio->httpx) (1.3.1)\n"
          ]
        }
      ],
      "source": [
        "pip install --upgrade python-telegram-bot httpx"
      ]
    },
    {
      "cell_type": "code",
      "execution_count": 8,
      "metadata": {
        "colab": {
          "base_uri": "https://localhost:8080/"
        },
        "id": "zqiwkrX-R6zu",
        "outputId": "91bfcf82-2256-4209-9bcd-e76d710e671e"
      },
      "outputs": [
        {
          "output_type": "stream",
          "name": "stdout",
          "text": [
            "Mounted at /content/drive\n"
          ]
        }
      ],
      "source": [
        "from google.colab import drive\n",
        "drive.mount('/content/drive')"
      ]
    },
    {
      "cell_type": "code",
      "execution_count": 9,
      "metadata": {
        "id": "ccis_455SDC-"
      },
      "outputs": [],
      "source": [
        "# Путь к папке на Google Диске\n",
        "path = '/content/drive/MyDrive/MyTasks/tasks.json'\n",
        "\n",
        "# Сохранение задач в файл\n",
        "def save_tasks(tasks):\n",
        "    with open(path, 'w') as file:\n",
        "        json.dump(tasks, file)\n",
        "\n",
        "# Загрузка задач из файла\n",
        "def load_tasks():\n",
        "    try:\n",
        "        with open(path, 'r') as file:\n",
        "            return json.load(file)\n",
        "    except FileNotFoundError:\n",
        "        return {}"
      ]
    },
    {
      "cell_type": "code",
      "execution_count": 10,
      "metadata": {
        "colab": {
          "base_uri": "https://localhost:8080/"
        },
        "id": "9S_mUGMNsu4J",
        "outputId": "5ba614e2-b0c5-4e1a-9704-468b19f21ef9"
      },
      "outputs": [
        {
          "output_type": "stream",
          "name": "stdout",
          "text": [
            "Requirement already satisfied: python-telegram-bot[job-queue] in /usr/local/lib/python3.11/dist-packages (21.11.1)\n",
            "Requirement already satisfied: httpx~=0.27 in /usr/local/lib/python3.11/dist-packages (from python-telegram-bot[job-queue]) (0.28.1)\n",
            "Collecting apscheduler<3.12.0,>=3.10.4 (from python-telegram-bot[job-queue])\n",
            "  Downloading APScheduler-3.11.0-py3-none-any.whl.metadata (6.4 kB)\n",
            "Requirement already satisfied: tzlocal>=3.0 in /usr/local/lib/python3.11/dist-packages (from apscheduler<3.12.0,>=3.10.4->python-telegram-bot[job-queue]) (5.3)\n",
            "Requirement already satisfied: anyio in /usr/local/lib/python3.11/dist-packages (from httpx~=0.27->python-telegram-bot[job-queue]) (3.7.1)\n",
            "Requirement already satisfied: certifi in /usr/local/lib/python3.11/dist-packages (from httpx~=0.27->python-telegram-bot[job-queue]) (2025.1.31)\n",
            "Requirement already satisfied: httpcore==1.* in /usr/local/lib/python3.11/dist-packages (from httpx~=0.27->python-telegram-bot[job-queue]) (1.0.7)\n",
            "Requirement already satisfied: idna in /usr/local/lib/python3.11/dist-packages (from httpx~=0.27->python-telegram-bot[job-queue]) (3.10)\n",
            "Requirement already satisfied: h11<0.15,>=0.13 in /usr/local/lib/python3.11/dist-packages (from httpcore==1.*->httpx~=0.27->python-telegram-bot[job-queue]) (0.14.0)\n",
            "Requirement already satisfied: sniffio>=1.1 in /usr/local/lib/python3.11/dist-packages (from anyio->httpx~=0.27->python-telegram-bot[job-queue]) (1.3.1)\n",
            "Downloading APScheduler-3.11.0-py3-none-any.whl (64 kB)\n",
            "\u001b[2K   \u001b[90m━━━━━━━━━━━━━━━━━━━━━━━━━━━━━━━━━━━━━━━━\u001b[0m \u001b[32m64.0/64.0 kB\u001b[0m \u001b[31m2.8 MB/s\u001b[0m eta \u001b[36m0:00:00\u001b[0m\n",
            "\u001b[?25hInstalling collected packages: apscheduler\n",
            "Successfully installed apscheduler-3.11.0\n"
          ]
        }
      ],
      "source": [
        "pip install \"python-telegram-bot[job-queue]\""
      ]
    },
    {
      "cell_type": "code",
      "execution_count": 11,
      "metadata": {
        "id": "vB_pndk6WXiE"
      },
      "outputs": [],
      "source": [
        "import logging\n",
        "\n",
        "# Настройка логирования\n",
        "logging.basicConfig(level=logging.INFO, filename='bot_activity.log',\n",
        "                    format='%(asctime)s - %(levelname)s - %(message)s')\n",
        "\n",
        "# Пример логирования\n",
        "logging.info(\"Бот запущен.\")"
      ]
    },
    {
      "cell_type": "code",
      "execution_count": 14,
      "metadata": {
        "colab": {
          "base_uri": "https://localhost:8080/"
        },
        "id": "eOpaWw00Xnrr",
        "outputId": "a5226d42-658c-4a4d-f493-72173a6168a5"
      },
      "outputs": [
        {
          "output_type": "stream",
          "name": "stdout",
          "text": [
            "Drive already mounted at /content/drive; to attempt to forcibly remount, call drive.mount(\"/content/drive\", force_remount=True).\n"
          ]
        }
      ],
      "source": [
        "from google.colab import drive\n",
        "drive.mount('/content/drive')"
      ]
    },
    {
      "cell_type": "code",
      "execution_count": 15,
      "metadata": {
        "id": "nJOk81geXpVD"
      },
      "outputs": [],
      "source": [
        "!cp bot_usage.db /content/drive/MyDrive/sqLite"
      ]
    },
    {
      "cell_type": "code",
      "execution_count": 17,
      "metadata": {
        "id": "vUa9zfGOeRRh"
      },
      "outputs": [],
      "source": [
        "DB_FILE_PATH = '/content/drive/MyDrive/MyTasks/'"
      ]
    },
    {
      "cell_type": "code",
      "execution_count": 18,
      "metadata": {
        "id": "Md6WedbCelmE"
      },
      "outputs": [],
      "source": [
        "def init_db():\n",
        "    # Подключаемся к базе данных (или создаем её, если не существует)\n",
        "    conn = sqlite3.connect(DB_FILE_PATH)\n",
        "    c = conn.cursor()\n",
        "\n",
        "    # Создаем таблицу для хранения пользователей\n",
        "    c.execute('''\n",
        "    CREATE TABLE IF NOT EXISTS users (\n",
        "        user_id INTEGER PRIMARY KEY,\n",
        "        username TEXT,\n",
        "        first_name TEXT,\n",
        "        last_name TEXT,\n",
        "        last_active DATETIME DEFAULT CURRENT_TIMESTAMP\n",
        "    )\n",
        "    ''')\n",
        "\n",
        "    # Сохраняем изменения и закрываем соединение\n",
        "    conn.commit()\n",
        "    conn.close()"
      ]
    },
    {
      "cell_type": "code",
      "execution_count": 19,
      "metadata": {
        "colab": {
          "base_uri": "https://localhost:8080/"
        },
        "id": "PD-nazEUXzdz",
        "outputId": "8f226993-60d2-465e-938b-67d4d82eab86"
      },
      "outputs": [
        {
          "output_type": "stream",
          "name": "stdout",
          "text": [
            "Requirement already satisfied: python-telegram-bot in /usr/local/lib/python3.11/dist-packages (21.11.1)\n",
            "Requirement already satisfied: httpx~=0.27 in /usr/local/lib/python3.11/dist-packages (from python-telegram-bot) (0.28.1)\n",
            "Requirement already satisfied: anyio in /usr/local/lib/python3.11/dist-packages (from httpx~=0.27->python-telegram-bot) (3.7.1)\n",
            "Requirement already satisfied: certifi in /usr/local/lib/python3.11/dist-packages (from httpx~=0.27->python-telegram-bot) (2025.1.31)\n",
            "Requirement already satisfied: httpcore==1.* in /usr/local/lib/python3.11/dist-packages (from httpx~=0.27->python-telegram-bot) (1.0.7)\n",
            "Requirement already satisfied: idna in /usr/local/lib/python3.11/dist-packages (from httpx~=0.27->python-telegram-bot) (3.10)\n",
            "Requirement already satisfied: h11<0.15,>=0.13 in /usr/local/lib/python3.11/dist-packages (from httpcore==1.*->httpx~=0.27->python-telegram-bot) (0.14.0)\n",
            "Requirement already satisfied: sniffio>=1.1 in /usr/local/lib/python3.11/dist-packages (from anyio->httpx~=0.27->python-telegram-bot) (1.3.1)\n"
          ]
        }
      ],
      "source": [
        "pip install --upgrade python-telegram-bot\n"
      ]
    },
    {
      "cell_type": "code",
      "execution_count": 20,
      "metadata": {
        "id": "fS_QXrdCcKAa"
      },
      "outputs": [],
      "source": [
        "DB_FILE_PATH = 'tasks.db'"
      ]
    },
    {
      "cell_type": "code",
      "execution_count": 21,
      "metadata": {
        "colab": {
          "base_uri": "https://localhost:8080/"
        },
        "id": "SVKvvPuvjELN",
        "outputId": "7775c665-3c0b-4f85-f0fd-918dc0f32373"
      },
      "outputs": [
        {
          "output_type": "stream",
          "name": "stdout",
          "text": [
            "Requirement already satisfied: python-telegram-bot in /usr/local/lib/python3.11/dist-packages (21.11.1)\n",
            "Requirement already satisfied: httpx~=0.27 in /usr/local/lib/python3.11/dist-packages (from python-telegram-bot) (0.28.1)\n",
            "Requirement already satisfied: anyio in /usr/local/lib/python3.11/dist-packages (from httpx~=0.27->python-telegram-bot) (3.7.1)\n",
            "Requirement already satisfied: certifi in /usr/local/lib/python3.11/dist-packages (from httpx~=0.27->python-telegram-bot) (2025.1.31)\n",
            "Requirement already satisfied: httpcore==1.* in /usr/local/lib/python3.11/dist-packages (from httpx~=0.27->python-telegram-bot) (1.0.7)\n",
            "Requirement already satisfied: idna in /usr/local/lib/python3.11/dist-packages (from httpx~=0.27->python-telegram-bot) (3.10)\n",
            "Requirement already satisfied: h11<0.15,>=0.13 in /usr/local/lib/python3.11/dist-packages (from httpcore==1.*->httpx~=0.27->python-telegram-bot) (0.14.0)\n",
            "Requirement already satisfied: sniffio>=1.1 in /usr/local/lib/python3.11/dist-packages (from anyio->httpx~=0.27->python-telegram-bot) (1.3.1)\n"
          ]
        }
      ],
      "source": [
        "pip install --upgrade python-telegram-bot\n"
      ]
    },
    {
      "cell_type": "code",
      "source": [
        "pip install python-telegram-bot pytz timezonefinder"
      ],
      "metadata": {
        "colab": {
          "base_uri": "https://localhost:8080/"
        },
        "id": "PEIGRCCC1DLC",
        "outputId": "1c973b6d-f2fa-4c8f-d6b7-81a5959c0321"
      },
      "execution_count": 23,
      "outputs": [
        {
          "output_type": "stream",
          "name": "stdout",
          "text": [
            "Requirement already satisfied: python-telegram-bot in /usr/local/lib/python3.11/dist-packages (21.11.1)\n",
            "Requirement already satisfied: pytz in /usr/local/lib/python3.11/dist-packages (2025.1)\n",
            "Collecting timezonefinder\n",
            "  Downloading timezonefinder-6.5.8-cp311-cp311-manylinux_2_17_x86_64.manylinux_2_5_x86_64.manylinux1_x86_64.manylinux2014_x86_64.whl.metadata (4.1 kB)\n",
            "Requirement already satisfied: httpx~=0.27 in /usr/local/lib/python3.11/dist-packages (from python-telegram-bot) (0.28.1)\n",
            "Requirement already satisfied: cffi<2,>=1.15.1 in /usr/local/lib/python3.11/dist-packages (from timezonefinder) (1.17.1)\n",
            "Collecting h3>4 (from timezonefinder)\n",
            "  Downloading h3-4.2.1-cp311-cp311-manylinux_2_17_x86_64.manylinux2014_x86_64.whl.metadata (18 kB)\n",
            "Requirement already satisfied: numpy<3,>=1.23 in /usr/local/lib/python3.11/dist-packages (from timezonefinder) (1.26.4)\n",
            "Requirement already satisfied: pycparser in /usr/local/lib/python3.11/dist-packages (from cffi<2,>=1.15.1->timezonefinder) (2.22)\n",
            "Requirement already satisfied: anyio in /usr/local/lib/python3.11/dist-packages (from httpx~=0.27->python-telegram-bot) (3.7.1)\n",
            "Requirement already satisfied: certifi in /usr/local/lib/python3.11/dist-packages (from httpx~=0.27->python-telegram-bot) (2025.1.31)\n",
            "Requirement already satisfied: httpcore==1.* in /usr/local/lib/python3.11/dist-packages (from httpx~=0.27->python-telegram-bot) (1.0.7)\n",
            "Requirement already satisfied: idna in /usr/local/lib/python3.11/dist-packages (from httpx~=0.27->python-telegram-bot) (3.10)\n",
            "Requirement already satisfied: h11<0.15,>=0.13 in /usr/local/lib/python3.11/dist-packages (from httpcore==1.*->httpx~=0.27->python-telegram-bot) (0.14.0)\n",
            "Requirement already satisfied: sniffio>=1.1 in /usr/local/lib/python3.11/dist-packages (from anyio->httpx~=0.27->python-telegram-bot) (1.3.1)\n",
            "Downloading timezonefinder-6.5.8-cp311-cp311-manylinux_2_17_x86_64.manylinux_2_5_x86_64.manylinux1_x86_64.manylinux2014_x86_64.whl (51.3 MB)\n",
            "\u001b[2K   \u001b[90m━━━━━━━━━━━━━━━━━━━━━━━━━━━━━━━━━━━━━━━━\u001b[0m \u001b[32m51.3/51.3 MB\u001b[0m \u001b[31m15.0 MB/s\u001b[0m eta \u001b[36m0:00:00\u001b[0m\n",
            "\u001b[?25hDownloading h3-4.2.1-cp311-cp311-manylinux_2_17_x86_64.manylinux2014_x86_64.whl (1.0 MB)\n",
            "\u001b[2K   \u001b[90m━━━━━━━━━━━━━━━━━━━━━━━━━━━━━━━━━━━━━━━━\u001b[0m \u001b[32m1.0/1.0 MB\u001b[0m \u001b[31m26.9 MB/s\u001b[0m eta \u001b[36m0:00:00\u001b[0m\n",
            "\u001b[?25hInstalling collected packages: h3, timezonefinder\n",
            "Successfully installed h3-4.2.1 timezonefinder-6.5.8\n"
          ]
        }
      ]
    },
    {
      "cell_type": "code",
      "source": [
        "pip install --upgrade python-telegram-bot requests pytz"
      ],
      "metadata": {
        "colab": {
          "base_uri": "https://localhost:8080/"
        },
        "id": "hoVrchNE8HO9",
        "outputId": "f7ff7389-8606-4efb-9a3e-028d6849e15e"
      },
      "execution_count": 24,
      "outputs": [
        {
          "output_type": "stream",
          "name": "stdout",
          "text": [
            "Requirement already satisfied: python-telegram-bot in /usr/local/lib/python3.11/dist-packages (21.11.1)\n",
            "Requirement already satisfied: requests in /usr/local/lib/python3.11/dist-packages (2.32.3)\n",
            "Requirement already satisfied: pytz in /usr/local/lib/python3.11/dist-packages (2025.1)\n",
            "Requirement already satisfied: httpx~=0.27 in /usr/local/lib/python3.11/dist-packages (from python-telegram-bot) (0.28.1)\n",
            "Requirement already satisfied: charset-normalizer<4,>=2 in /usr/local/lib/python3.11/dist-packages (from requests) (3.4.1)\n",
            "Requirement already satisfied: idna<4,>=2.5 in /usr/local/lib/python3.11/dist-packages (from requests) (3.10)\n",
            "Requirement already satisfied: urllib3<3,>=1.21.1 in /usr/local/lib/python3.11/dist-packages (from requests) (2.3.0)\n",
            "Requirement already satisfied: certifi>=2017.4.17 in /usr/local/lib/python3.11/dist-packages (from requests) (2025.1.31)\n",
            "Requirement already satisfied: anyio in /usr/local/lib/python3.11/dist-packages (from httpx~=0.27->python-telegram-bot) (3.7.1)\n",
            "Requirement already satisfied: httpcore==1.* in /usr/local/lib/python3.11/dist-packages (from httpx~=0.27->python-telegram-bot) (1.0.7)\n",
            "Requirement already satisfied: h11<0.15,>=0.13 in /usr/local/lib/python3.11/dist-packages (from httpcore==1.*->httpx~=0.27->python-telegram-bot) (0.14.0)\n",
            "Requirement already satisfied: sniffio>=1.1 in /usr/local/lib/python3.11/dist-packages (from anyio->httpx~=0.27->python-telegram-bot) (1.3.1)\n"
          ]
        }
      ]
    },
    {
      "cell_type": "code",
      "source": [
        "pip install requests\n"
      ],
      "metadata": {
        "colab": {
          "base_uri": "https://localhost:8080/"
        },
        "id": "3NnorvlrAbeZ",
        "outputId": "7e4b0978-e34a-4ac0-98aa-499a1e8de796"
      },
      "execution_count": 25,
      "outputs": [
        {
          "output_type": "stream",
          "name": "stdout",
          "text": [
            "Requirement already satisfied: requests in /usr/local/lib/python3.11/dist-packages (2.32.3)\n",
            "Requirement already satisfied: charset-normalizer<4,>=2 in /usr/local/lib/python3.11/dist-packages (from requests) (3.4.1)\n",
            "Requirement already satisfied: idna<4,>=2.5 in /usr/local/lib/python3.11/dist-packages (from requests) (3.10)\n",
            "Requirement already satisfied: urllib3<3,>=1.21.1 in /usr/local/lib/python3.11/dist-packages (from requests) (2.3.0)\n",
            "Requirement already satisfied: certifi>=2017.4.17 in /usr/local/lib/python3.11/dist-packages (from requests) (2025.1.31)\n"
          ]
        }
      ]
    },
    {
      "cell_type": "code",
      "source": [
        "!pip install httpx"
      ],
      "metadata": {
        "colab": {
          "base_uri": "https://localhost:8080/"
        },
        "id": "_kR6E6AGO2wc",
        "outputId": "8bb011d9-9a3a-4752-c2ce-20d25f1e6e5c"
      },
      "execution_count": 26,
      "outputs": [
        {
          "output_type": "stream",
          "name": "stdout",
          "text": [
            "Requirement already satisfied: httpx in /usr/local/lib/python3.11/dist-packages (0.28.1)\n",
            "Requirement already satisfied: anyio in /usr/local/lib/python3.11/dist-packages (from httpx) (3.7.1)\n",
            "Requirement already satisfied: certifi in /usr/local/lib/python3.11/dist-packages (from httpx) (2025.1.31)\n",
            "Requirement already satisfied: httpcore==1.* in /usr/local/lib/python3.11/dist-packages (from httpx) (1.0.7)\n",
            "Requirement already satisfied: idna in /usr/local/lib/python3.11/dist-packages (from httpx) (3.10)\n",
            "Requirement already satisfied: h11<0.15,>=0.13 in /usr/local/lib/python3.11/dist-packages (from httpcore==1.*->httpx) (0.14.0)\n",
            "Requirement already satisfied: sniffio>=1.1 in /usr/local/lib/python3.11/dist-packages (from anyio->httpx) (1.3.1)\n"
          ]
        }
      ]
    },
    {
      "cell_type": "code",
      "source": [
        "!pip install python-telegram-bot --upgrade\n",
        "!pip install nest_asyncio"
      ],
      "metadata": {
        "colab": {
          "base_uri": "https://localhost:8080/"
        },
        "id": "BSxLYieb_kYp",
        "outputId": "3354d8d4-1c25-44b6-964d-0c76c4c31781"
      },
      "execution_count": 3,
      "outputs": [
        {
          "output_type": "stream",
          "name": "stdout",
          "text": [
            "Requirement already satisfied: python-telegram-bot in /usr/local/lib/python3.11/dist-packages (21.11.1)\n",
            "Requirement already satisfied: httpx~=0.27 in /usr/local/lib/python3.11/dist-packages (from python-telegram-bot) (0.28.1)\n",
            "Requirement already satisfied: anyio in /usr/local/lib/python3.11/dist-packages (from httpx~=0.27->python-telegram-bot) (3.7.1)\n",
            "Requirement already satisfied: certifi in /usr/local/lib/python3.11/dist-packages (from httpx~=0.27->python-telegram-bot) (2025.1.31)\n",
            "Requirement already satisfied: httpcore==1.* in /usr/local/lib/python3.11/dist-packages (from httpx~=0.27->python-telegram-bot) (1.0.7)\n",
            "Requirement already satisfied: idna in /usr/local/lib/python3.11/dist-packages (from httpx~=0.27->python-telegram-bot) (3.10)\n",
            "Requirement already satisfied: h11<0.15,>=0.13 in /usr/local/lib/python3.11/dist-packages (from httpcore==1.*->httpx~=0.27->python-telegram-bot) (0.14.0)\n",
            "Requirement already satisfied: sniffio>=1.1 in /usr/local/lib/python3.11/dist-packages (from anyio->httpx~=0.27->python-telegram-bot) (1.3.1)\n",
            "Requirement already satisfied: nest_asyncio in /usr/local/lib/python3.11/dist-packages (1.6.0)\n"
          ]
        }
      ]
    },
    {
      "cell_type": "code",
      "source": [
        "!pip install nest_asyncio"
      ],
      "metadata": {
        "colab": {
          "base_uri": "https://localhost:8080/"
        },
        "id": "RP7lnSL5AEno",
        "outputId": "ea4d7f7b-87a7-402b-ab09-e7edcf7bc8a3"
      },
      "execution_count": 4,
      "outputs": [
        {
          "output_type": "stream",
          "name": "stdout",
          "text": [
            "Requirement already satisfied: nest_asyncio in /usr/local/lib/python3.11/dist-packages (1.6.0)\n"
          ]
        }
      ]
    },
    {
      "cell_type": "code",
      "source": [
        "pip install python-telegram-bot google-colab nest-asyncio pytz"
      ],
      "metadata": {
        "colab": {
          "base_uri": "https://localhost:8080/"
        },
        "id": "pMiMkkpXF_St",
        "outputId": "e08f54d6-9612-41c1-f76e-60749fb7796f"
      },
      "execution_count": 9,
      "outputs": [
        {
          "output_type": "stream",
          "name": "stdout",
          "text": [
            "Requirement already satisfied: python-telegram-bot in /usr/local/lib/python3.11/dist-packages (21.11.1)\n",
            "Requirement already satisfied: google-colab in /usr/local/lib/python3.11/dist-packages (1.0.0)\n",
            "Requirement already satisfied: nest-asyncio in /usr/local/lib/python3.11/dist-packages (1.6.0)\n",
            "Requirement already satisfied: pytz in /usr/local/lib/python3.11/dist-packages (2025.1)\n",
            "Requirement already satisfied: httpx~=0.27 in /usr/local/lib/python3.11/dist-packages (from python-telegram-bot) (0.28.1)\n",
            "Requirement already satisfied: google-auth==2.38.0 in /usr/local/lib/python3.11/dist-packages (from google-colab) (2.38.0)\n",
            "Requirement already satisfied: ipykernel==6.17.1 in /usr/local/lib/python3.11/dist-packages (from google-colab) (6.17.1)\n",
            "Requirement already satisfied: ipyparallel==8.8.0 in /usr/local/lib/python3.11/dist-packages (from google-colab) (8.8.0)\n",
            "Requirement already satisfied: ipython==7.34.0 in /usr/local/lib/python3.11/dist-packages (from google-colab) (7.34.0)\n",
            "Requirement already satisfied: notebook==6.5.5 in /usr/local/lib/python3.11/dist-packages (from google-colab) (6.5.5)\n",
            "Requirement already satisfied: pandas==2.2.2 in /usr/local/lib/python3.11/dist-packages (from google-colab) (2.2.2)\n",
            "Requirement already satisfied: portpicker==1.5.2 in /usr/local/lib/python3.11/dist-packages (from google-colab) (1.5.2)\n",
            "Requirement already satisfied: requests==2.32.3 in /usr/local/lib/python3.11/dist-packages (from google-colab) (2.32.3)\n",
            "Requirement already satisfied: tornado==6.4.2 in /usr/local/lib/python3.11/dist-packages (from google-colab) (6.4.2)\n",
            "Requirement already satisfied: cachetools<6.0,>=2.0.0 in /usr/local/lib/python3.11/dist-packages (from google-auth==2.38.0->google-colab) (5.5.2)\n",
            "Requirement already satisfied: pyasn1-modules>=0.2.1 in /usr/local/lib/python3.11/dist-packages (from google-auth==2.38.0->google-colab) (0.4.1)\n",
            "Requirement already satisfied: rsa<5,>=3.1.4 in /usr/local/lib/python3.11/dist-packages (from google-auth==2.38.0->google-colab) (4.9)\n",
            "Requirement already satisfied: debugpy>=1.0 in /usr/local/lib/python3.11/dist-packages (from ipykernel==6.17.1->google-colab) (1.8.0)\n",
            "Requirement already satisfied: jupyter-client>=6.1.12 in /usr/local/lib/python3.11/dist-packages (from ipykernel==6.17.1->google-colab) (6.1.12)\n",
            "Requirement already satisfied: matplotlib-inline>=0.1 in /usr/local/lib/python3.11/dist-packages (from ipykernel==6.17.1->google-colab) (0.1.7)\n",
            "Requirement already satisfied: packaging in /usr/local/lib/python3.11/dist-packages (from ipykernel==6.17.1->google-colab) (24.2)\n",
            "Requirement already satisfied: psutil in /usr/local/lib/python3.11/dist-packages (from ipykernel==6.17.1->google-colab) (5.9.5)\n",
            "Requirement already satisfied: pyzmq>=17 in /usr/local/lib/python3.11/dist-packages (from ipykernel==6.17.1->google-colab) (24.0.1)\n",
            "Requirement already satisfied: traitlets>=5.1.0 in /usr/local/lib/python3.11/dist-packages (from ipykernel==6.17.1->google-colab) (5.7.1)\n",
            "Requirement already satisfied: decorator in /usr/local/lib/python3.11/dist-packages (from ipyparallel==8.8.0->google-colab) (4.4.2)\n",
            "Requirement already satisfied: entrypoints in /usr/local/lib/python3.11/dist-packages (from ipyparallel==8.8.0->google-colab) (0.4)\n",
            "Requirement already satisfied: python-dateutil>=2.1 in /usr/local/lib/python3.11/dist-packages (from ipyparallel==8.8.0->google-colab) (2.8.2)\n",
            "Requirement already satisfied: tqdm in /usr/local/lib/python3.11/dist-packages (from ipyparallel==8.8.0->google-colab) (4.67.1)\n",
            "Requirement already satisfied: setuptools>=18.5 in /usr/local/lib/python3.11/dist-packages (from ipython==7.34.0->google-colab) (75.1.0)\n",
            "Collecting jedi>=0.16 (from ipython==7.34.0->google-colab)\n",
            "  Downloading jedi-0.19.2-py2.py3-none-any.whl.metadata (22 kB)\n",
            "Requirement already satisfied: pickleshare in /usr/local/lib/python3.11/dist-packages (from ipython==7.34.0->google-colab) (0.7.5)\n",
            "Requirement already satisfied: prompt-toolkit!=3.0.0,!=3.0.1,<3.1.0,>=2.0.0 in /usr/local/lib/python3.11/dist-packages (from ipython==7.34.0->google-colab) (3.0.50)\n",
            "Requirement already satisfied: pygments in /usr/local/lib/python3.11/dist-packages (from ipython==7.34.0->google-colab) (2.18.0)\n",
            "Requirement already satisfied: backcall in /usr/local/lib/python3.11/dist-packages (from ipython==7.34.0->google-colab) (0.2.0)\n",
            "Requirement already satisfied: pexpect>4.3 in /usr/local/lib/python3.11/dist-packages (from ipython==7.34.0->google-colab) (4.9.0)\n",
            "Requirement already satisfied: jinja2 in /usr/local/lib/python3.11/dist-packages (from notebook==6.5.5->google-colab) (3.1.5)\n",
            "Requirement already satisfied: argon2-cffi in /usr/local/lib/python3.11/dist-packages (from notebook==6.5.5->google-colab) (23.1.0)\n",
            "Requirement already satisfied: jupyter-core>=4.6.1 in /usr/local/lib/python3.11/dist-packages (from notebook==6.5.5->google-colab) (5.7.2)\n",
            "Requirement already satisfied: ipython-genutils in /usr/local/lib/python3.11/dist-packages (from notebook==6.5.5->google-colab) (0.2.0)\n",
            "Requirement already satisfied: nbformat in /usr/local/lib/python3.11/dist-packages (from notebook==6.5.5->google-colab) (5.10.4)\n",
            "Requirement already satisfied: nbconvert>=5 in /usr/local/lib/python3.11/dist-packages (from notebook==6.5.5->google-colab) (7.16.6)\n",
            "Requirement already satisfied: Send2Trash>=1.8.0 in /usr/local/lib/python3.11/dist-packages (from notebook==6.5.5->google-colab) (1.8.3)\n",
            "Requirement already satisfied: terminado>=0.8.3 in /usr/local/lib/python3.11/dist-packages (from notebook==6.5.5->google-colab) (0.18.1)\n",
            "Requirement already satisfied: prometheus-client in /usr/local/lib/python3.11/dist-packages (from notebook==6.5.5->google-colab) (0.21.1)\n",
            "Requirement already satisfied: nbclassic>=0.4.7 in /usr/local/lib/python3.11/dist-packages (from notebook==6.5.5->google-colab) (1.2.0)\n",
            "Requirement already satisfied: numpy>=1.23.2 in /usr/local/lib/python3.11/dist-packages (from pandas==2.2.2->google-colab) (1.26.4)\n",
            "Requirement already satisfied: tzdata>=2022.7 in /usr/local/lib/python3.11/dist-packages (from pandas==2.2.2->google-colab) (2025.1)\n",
            "Requirement already satisfied: charset-normalizer<4,>=2 in /usr/local/lib/python3.11/dist-packages (from requests==2.32.3->google-colab) (3.4.1)\n",
            "Requirement already satisfied: idna<4,>=2.5 in /usr/local/lib/python3.11/dist-packages (from requests==2.32.3->google-colab) (3.10)\n",
            "Requirement already satisfied: urllib3<3,>=1.21.1 in /usr/local/lib/python3.11/dist-packages (from requests==2.32.3->google-colab) (2.3.0)\n",
            "Requirement already satisfied: certifi>=2017.4.17 in /usr/local/lib/python3.11/dist-packages (from requests==2.32.3->google-colab) (2025.1.31)\n",
            "Requirement already satisfied: anyio in /usr/local/lib/python3.11/dist-packages (from httpx~=0.27->python-telegram-bot) (3.7.1)\n",
            "Requirement already satisfied: httpcore==1.* in /usr/local/lib/python3.11/dist-packages (from httpx~=0.27->python-telegram-bot) (1.0.7)\n",
            "Requirement already satisfied: h11<0.15,>=0.13 in /usr/local/lib/python3.11/dist-packages (from httpcore==1.*->httpx~=0.27->python-telegram-bot) (0.14.0)\n",
            "Requirement already satisfied: parso<0.9.0,>=0.8.4 in /usr/local/lib/python3.11/dist-packages (from jedi>=0.16->ipython==7.34.0->google-colab) (0.8.4)\n",
            "Requirement already satisfied: platformdirs>=2.5 in /usr/local/lib/python3.11/dist-packages (from jupyter-core>=4.6.1->notebook==6.5.5->google-colab) (4.3.6)\n",
            "Requirement already satisfied: notebook-shim>=0.2.3 in /usr/local/lib/python3.11/dist-packages (from nbclassic>=0.4.7->notebook==6.5.5->google-colab) (0.2.4)\n",
            "Requirement already satisfied: beautifulsoup4 in /usr/local/lib/python3.11/dist-packages (from nbconvert>=5->notebook==6.5.5->google-colab) (4.13.3)\n",
            "Requirement already satisfied: bleach!=5.0.0 in /usr/local/lib/python3.11/dist-packages (from bleach[css]!=5.0.0->nbconvert>=5->notebook==6.5.5->google-colab) (6.2.0)\n",
            "Requirement already satisfied: defusedxml in /usr/local/lib/python3.11/dist-packages (from nbconvert>=5->notebook==6.5.5->google-colab) (0.7.1)\n",
            "Requirement already satisfied: jupyterlab-pygments in /usr/local/lib/python3.11/dist-packages (from nbconvert>=5->notebook==6.5.5->google-colab) (0.3.0)\n",
            "Requirement already satisfied: markupsafe>=2.0 in /usr/local/lib/python3.11/dist-packages (from nbconvert>=5->notebook==6.5.5->google-colab) (3.0.2)\n",
            "Requirement already satisfied: mistune<4,>=2.0.3 in /usr/local/lib/python3.11/dist-packages (from nbconvert>=5->notebook==6.5.5->google-colab) (3.1.2)\n",
            "Requirement already satisfied: nbclient>=0.5.0 in /usr/local/lib/python3.11/dist-packages (from nbconvert>=5->notebook==6.5.5->google-colab) (0.10.2)\n",
            "Requirement already satisfied: pandocfilters>=1.4.1 in /usr/local/lib/python3.11/dist-packages (from nbconvert>=5->notebook==6.5.5->google-colab) (1.5.1)\n",
            "Requirement already satisfied: fastjsonschema>=2.15 in /usr/local/lib/python3.11/dist-packages (from nbformat->notebook==6.5.5->google-colab) (2.21.1)\n",
            "Requirement already satisfied: jsonschema>=2.6 in /usr/local/lib/python3.11/dist-packages (from nbformat->notebook==6.5.5->google-colab) (4.23.0)\n",
            "Requirement already satisfied: ptyprocess>=0.5 in /usr/local/lib/python3.11/dist-packages (from pexpect>4.3->ipython==7.34.0->google-colab) (0.7.0)\n",
            "Requirement already satisfied: wcwidth in /usr/local/lib/python3.11/dist-packages (from prompt-toolkit!=3.0.0,!=3.0.1,<3.1.0,>=2.0.0->ipython==7.34.0->google-colab) (0.2.13)\n",
            "Requirement already satisfied: pyasn1<0.7.0,>=0.4.6 in /usr/local/lib/python3.11/dist-packages (from pyasn1-modules>=0.2.1->google-auth==2.38.0->google-colab) (0.6.1)\n",
            "Requirement already satisfied: six>=1.5 in /usr/local/lib/python3.11/dist-packages (from python-dateutil>=2.1->ipyparallel==8.8.0->google-colab) (1.17.0)\n",
            "Requirement already satisfied: sniffio>=1.1 in /usr/local/lib/python3.11/dist-packages (from anyio->httpx~=0.27->python-telegram-bot) (1.3.1)\n",
            "Requirement already satisfied: argon2-cffi-bindings in /usr/local/lib/python3.11/dist-packages (from argon2-cffi->notebook==6.5.5->google-colab) (21.2.0)\n",
            "Requirement already satisfied: webencodings in /usr/local/lib/python3.11/dist-packages (from bleach!=5.0.0->bleach[css]!=5.0.0->nbconvert>=5->notebook==6.5.5->google-colab) (0.5.1)\n",
            "Requirement already satisfied: tinycss2<1.5,>=1.1.0 in /usr/local/lib/python3.11/dist-packages (from bleach[css]!=5.0.0->nbconvert>=5->notebook==6.5.5->google-colab) (1.4.0)\n",
            "Requirement already satisfied: attrs>=22.2.0 in /usr/local/lib/python3.11/dist-packages (from jsonschema>=2.6->nbformat->notebook==6.5.5->google-colab) (25.1.0)\n",
            "Requirement already satisfied: jsonschema-specifications>=2023.03.6 in /usr/local/lib/python3.11/dist-packages (from jsonschema>=2.6->nbformat->notebook==6.5.5->google-colab) (2024.10.1)\n",
            "Requirement already satisfied: referencing>=0.28.4 in /usr/local/lib/python3.11/dist-packages (from jsonschema>=2.6->nbformat->notebook==6.5.5->google-colab) (0.36.2)\n",
            "Requirement already satisfied: rpds-py>=0.7.1 in /usr/local/lib/python3.11/dist-packages (from jsonschema>=2.6->nbformat->notebook==6.5.5->google-colab) (0.23.1)\n",
            "Requirement already satisfied: jupyter-server<3,>=1.8 in /usr/local/lib/python3.11/dist-packages (from notebook-shim>=0.2.3->nbclassic>=0.4.7->notebook==6.5.5->google-colab) (1.24.0)\n",
            "Requirement already satisfied: cffi>=1.0.1 in /usr/local/lib/python3.11/dist-packages (from argon2-cffi-bindings->argon2-cffi->notebook==6.5.5->google-colab) (1.17.1)\n",
            "Requirement already satisfied: soupsieve>1.2 in /usr/local/lib/python3.11/dist-packages (from beautifulsoup4->nbconvert>=5->notebook==6.5.5->google-colab) (2.6)\n",
            "Requirement already satisfied: typing-extensions>=4.0.0 in /usr/local/lib/python3.11/dist-packages (from beautifulsoup4->nbconvert>=5->notebook==6.5.5->google-colab) (4.12.2)\n",
            "Requirement already satisfied: pycparser in /usr/local/lib/python3.11/dist-packages (from cffi>=1.0.1->argon2-cffi-bindings->argon2-cffi->notebook==6.5.5->google-colab) (2.22)\n",
            "Requirement already satisfied: websocket-client in /usr/local/lib/python3.11/dist-packages (from jupyter-server<3,>=1.8->notebook-shim>=0.2.3->nbclassic>=0.4.7->notebook==6.5.5->google-colab) (1.8.0)\n",
            "Downloading jedi-0.19.2-py2.py3-none-any.whl (1.6 MB)\n",
            "\u001b[2K   \u001b[90m━━━━━━━━━━━━━━━━━━━━━━━━━━━━━━━━━━━━━━━━\u001b[0m \u001b[32m1.6/1.6 MB\u001b[0m \u001b[31m43.0 MB/s\u001b[0m eta \u001b[36m0:00:00\u001b[0m\n",
            "\u001b[?25hInstalling collected packages: jedi\n",
            "Successfully installed jedi-0.19.2\n"
          ]
        }
      ]
    },
    {
      "cell_type": "code",
      "source": [
        "!pip python task_manager_bot.py"
      ],
      "metadata": {
        "colab": {
          "base_uri": "https://localhost:8080/"
        },
        "id": "cD9r-ZkVGA3w",
        "outputId": "f1825420-fcbc-47a5-ab30-216af24f55ef"
      },
      "execution_count": 15,
      "outputs": [
        {
          "output_type": "stream",
          "name": "stdout",
          "text": [
            "ERROR: unknown command \"python\"\n"
          ]
        }
      ]
    },
    {
      "cell_type": "code",
      "source": [
        "from google.colab import drive\n",
        "drive.mount('/content/drive')"
      ],
      "metadata": {
        "colab": {
          "base_uri": "https://localhost:8080/"
        },
        "id": "zGvxl1woG8dY",
        "outputId": "58d5850e-f6c9-4a69-a0e3-b3c53a0500bb"
      },
      "execution_count": 18,
      "outputs": [
        {
          "output_type": "stream",
          "name": "stdout",
          "text": [
            "Drive already mounted at /content/drive; to attempt to forcibly remount, call drive.mount(\"/content/drive\", force_remount=True).\n"
          ]
        }
      ]
    },
    {
      "cell_type": "code",
      "source": [
        "!pip install python-telegram-bot google-colab nest-asyncio pytz"
      ],
      "metadata": {
        "colab": {
          "base_uri": "https://localhost:8080/"
        },
        "id": "VNUdCVCzG9gy",
        "outputId": "c643fbda-942c-4954-9300-2e7a130f4da9"
      },
      "execution_count": 19,
      "outputs": [
        {
          "output_type": "stream",
          "name": "stdout",
          "text": [
            "Requirement already satisfied: python-telegram-bot in /usr/local/lib/python3.11/dist-packages (21.11.1)\n",
            "Requirement already satisfied: google-colab in /usr/local/lib/python3.11/dist-packages (1.0.0)\n",
            "Requirement already satisfied: nest-asyncio in /usr/local/lib/python3.11/dist-packages (1.6.0)\n",
            "Requirement already satisfied: pytz in /usr/local/lib/python3.11/dist-packages (2025.1)\n",
            "Requirement already satisfied: httpx~=0.27 in /usr/local/lib/python3.11/dist-packages (from python-telegram-bot) (0.28.1)\n",
            "Requirement already satisfied: google-auth==2.38.0 in /usr/local/lib/python3.11/dist-packages (from google-colab) (2.38.0)\n",
            "Requirement already satisfied: ipykernel==6.17.1 in /usr/local/lib/python3.11/dist-packages (from google-colab) (6.17.1)\n",
            "Requirement already satisfied: ipyparallel==8.8.0 in /usr/local/lib/python3.11/dist-packages (from google-colab) (8.8.0)\n",
            "Requirement already satisfied: ipython==7.34.0 in /usr/local/lib/python3.11/dist-packages (from google-colab) (7.34.0)\n",
            "Requirement already satisfied: notebook==6.5.5 in /usr/local/lib/python3.11/dist-packages (from google-colab) (6.5.5)\n",
            "Requirement already satisfied: pandas==2.2.2 in /usr/local/lib/python3.11/dist-packages (from google-colab) (2.2.2)\n",
            "Requirement already satisfied: portpicker==1.5.2 in /usr/local/lib/python3.11/dist-packages (from google-colab) (1.5.2)\n",
            "Requirement already satisfied: requests==2.32.3 in /usr/local/lib/python3.11/dist-packages (from google-colab) (2.32.3)\n",
            "Requirement already satisfied: tornado==6.4.2 in /usr/local/lib/python3.11/dist-packages (from google-colab) (6.4.2)\n",
            "Requirement already satisfied: cachetools<6.0,>=2.0.0 in /usr/local/lib/python3.11/dist-packages (from google-auth==2.38.0->google-colab) (5.5.2)\n",
            "Requirement already satisfied: pyasn1-modules>=0.2.1 in /usr/local/lib/python3.11/dist-packages (from google-auth==2.38.0->google-colab) (0.4.1)\n",
            "Requirement already satisfied: rsa<5,>=3.1.4 in /usr/local/lib/python3.11/dist-packages (from google-auth==2.38.0->google-colab) (4.9)\n",
            "Requirement already satisfied: debugpy>=1.0 in /usr/local/lib/python3.11/dist-packages (from ipykernel==6.17.1->google-colab) (1.8.0)\n",
            "Requirement already satisfied: jupyter-client>=6.1.12 in /usr/local/lib/python3.11/dist-packages (from ipykernel==6.17.1->google-colab) (6.1.12)\n",
            "Requirement already satisfied: matplotlib-inline>=0.1 in /usr/local/lib/python3.11/dist-packages (from ipykernel==6.17.1->google-colab) (0.1.7)\n",
            "Requirement already satisfied: packaging in /usr/local/lib/python3.11/dist-packages (from ipykernel==6.17.1->google-colab) (24.2)\n",
            "Requirement already satisfied: psutil in /usr/local/lib/python3.11/dist-packages (from ipykernel==6.17.1->google-colab) (5.9.5)\n",
            "Requirement already satisfied: pyzmq>=17 in /usr/local/lib/python3.11/dist-packages (from ipykernel==6.17.1->google-colab) (24.0.1)\n",
            "Requirement already satisfied: traitlets>=5.1.0 in /usr/local/lib/python3.11/dist-packages (from ipykernel==6.17.1->google-colab) (5.7.1)\n",
            "Requirement already satisfied: decorator in /usr/local/lib/python3.11/dist-packages (from ipyparallel==8.8.0->google-colab) (4.4.2)\n",
            "Requirement already satisfied: entrypoints in /usr/local/lib/python3.11/dist-packages (from ipyparallel==8.8.0->google-colab) (0.4)\n",
            "Requirement already satisfied: python-dateutil>=2.1 in /usr/local/lib/python3.11/dist-packages (from ipyparallel==8.8.0->google-colab) (2.8.2)\n",
            "Requirement already satisfied: tqdm in /usr/local/lib/python3.11/dist-packages (from ipyparallel==8.8.0->google-colab) (4.67.1)\n",
            "Requirement already satisfied: setuptools>=18.5 in /usr/local/lib/python3.11/dist-packages (from ipython==7.34.0->google-colab) (75.1.0)\n",
            "Requirement already satisfied: jedi>=0.16 in /usr/local/lib/python3.11/dist-packages (from ipython==7.34.0->google-colab) (0.19.2)\n",
            "Requirement already satisfied: pickleshare in /usr/local/lib/python3.11/dist-packages (from ipython==7.34.0->google-colab) (0.7.5)\n",
            "Requirement already satisfied: prompt-toolkit!=3.0.0,!=3.0.1,<3.1.0,>=2.0.0 in /usr/local/lib/python3.11/dist-packages (from ipython==7.34.0->google-colab) (3.0.50)\n",
            "Requirement already satisfied: pygments in /usr/local/lib/python3.11/dist-packages (from ipython==7.34.0->google-colab) (2.18.0)\n",
            "Requirement already satisfied: backcall in /usr/local/lib/python3.11/dist-packages (from ipython==7.34.0->google-colab) (0.2.0)\n",
            "Requirement already satisfied: pexpect>4.3 in /usr/local/lib/python3.11/dist-packages (from ipython==7.34.0->google-colab) (4.9.0)\n",
            "Requirement already satisfied: jinja2 in /usr/local/lib/python3.11/dist-packages (from notebook==6.5.5->google-colab) (3.1.5)\n",
            "Requirement already satisfied: argon2-cffi in /usr/local/lib/python3.11/dist-packages (from notebook==6.5.5->google-colab) (23.1.0)\n",
            "Requirement already satisfied: jupyter-core>=4.6.1 in /usr/local/lib/python3.11/dist-packages (from notebook==6.5.5->google-colab) (5.7.2)\n",
            "Requirement already satisfied: ipython-genutils in /usr/local/lib/python3.11/dist-packages (from notebook==6.5.5->google-colab) (0.2.0)\n",
            "Requirement already satisfied: nbformat in /usr/local/lib/python3.11/dist-packages (from notebook==6.5.5->google-colab) (5.10.4)\n",
            "Requirement already satisfied: nbconvert>=5 in /usr/local/lib/python3.11/dist-packages (from notebook==6.5.5->google-colab) (7.16.6)\n",
            "Requirement already satisfied: Send2Trash>=1.8.0 in /usr/local/lib/python3.11/dist-packages (from notebook==6.5.5->google-colab) (1.8.3)\n",
            "Requirement already satisfied: terminado>=0.8.3 in /usr/local/lib/python3.11/dist-packages (from notebook==6.5.5->google-colab) (0.18.1)\n",
            "Requirement already satisfied: prometheus-client in /usr/local/lib/python3.11/dist-packages (from notebook==6.5.5->google-colab) (0.21.1)\n",
            "Requirement already satisfied: nbclassic>=0.4.7 in /usr/local/lib/python3.11/dist-packages (from notebook==6.5.5->google-colab) (1.2.0)\n",
            "Requirement already satisfied: numpy>=1.23.2 in /usr/local/lib/python3.11/dist-packages (from pandas==2.2.2->google-colab) (1.26.4)\n",
            "Requirement already satisfied: tzdata>=2022.7 in /usr/local/lib/python3.11/dist-packages (from pandas==2.2.2->google-colab) (2025.1)\n",
            "Requirement already satisfied: charset-normalizer<4,>=2 in /usr/local/lib/python3.11/dist-packages (from requests==2.32.3->google-colab) (3.4.1)\n",
            "Requirement already satisfied: idna<4,>=2.5 in /usr/local/lib/python3.11/dist-packages (from requests==2.32.3->google-colab) (3.10)\n",
            "Requirement already satisfied: urllib3<3,>=1.21.1 in /usr/local/lib/python3.11/dist-packages (from requests==2.32.3->google-colab) (2.3.0)\n",
            "Requirement already satisfied: certifi>=2017.4.17 in /usr/local/lib/python3.11/dist-packages (from requests==2.32.3->google-colab) (2025.1.31)\n",
            "Requirement already satisfied: anyio in /usr/local/lib/python3.11/dist-packages (from httpx~=0.27->python-telegram-bot) (3.7.1)\n",
            "Requirement already satisfied: httpcore==1.* in /usr/local/lib/python3.11/dist-packages (from httpx~=0.27->python-telegram-bot) (1.0.7)\n",
            "Requirement already satisfied: h11<0.15,>=0.13 in /usr/local/lib/python3.11/dist-packages (from httpcore==1.*->httpx~=0.27->python-telegram-bot) (0.14.0)\n",
            "Requirement already satisfied: parso<0.9.0,>=0.8.4 in /usr/local/lib/python3.11/dist-packages (from jedi>=0.16->ipython==7.34.0->google-colab) (0.8.4)\n",
            "Requirement already satisfied: platformdirs>=2.5 in /usr/local/lib/python3.11/dist-packages (from jupyter-core>=4.6.1->notebook==6.5.5->google-colab) (4.3.6)\n",
            "Requirement already satisfied: notebook-shim>=0.2.3 in /usr/local/lib/python3.11/dist-packages (from nbclassic>=0.4.7->notebook==6.5.5->google-colab) (0.2.4)\n",
            "Requirement already satisfied: beautifulsoup4 in /usr/local/lib/python3.11/dist-packages (from nbconvert>=5->notebook==6.5.5->google-colab) (4.13.3)\n",
            "Requirement already satisfied: bleach!=5.0.0 in /usr/local/lib/python3.11/dist-packages (from bleach[css]!=5.0.0->nbconvert>=5->notebook==6.5.5->google-colab) (6.2.0)\n",
            "Requirement already satisfied: defusedxml in /usr/local/lib/python3.11/dist-packages (from nbconvert>=5->notebook==6.5.5->google-colab) (0.7.1)\n",
            "Requirement already satisfied: jupyterlab-pygments in /usr/local/lib/python3.11/dist-packages (from nbconvert>=5->notebook==6.5.5->google-colab) (0.3.0)\n",
            "Requirement already satisfied: markupsafe>=2.0 in /usr/local/lib/python3.11/dist-packages (from nbconvert>=5->notebook==6.5.5->google-colab) (3.0.2)\n",
            "Requirement already satisfied: mistune<4,>=2.0.3 in /usr/local/lib/python3.11/dist-packages (from nbconvert>=5->notebook==6.5.5->google-colab) (3.1.2)\n",
            "Requirement already satisfied: nbclient>=0.5.0 in /usr/local/lib/python3.11/dist-packages (from nbconvert>=5->notebook==6.5.5->google-colab) (0.10.2)\n",
            "Requirement already satisfied: pandocfilters>=1.4.1 in /usr/local/lib/python3.11/dist-packages (from nbconvert>=5->notebook==6.5.5->google-colab) (1.5.1)\n",
            "Requirement already satisfied: fastjsonschema>=2.15 in /usr/local/lib/python3.11/dist-packages (from nbformat->notebook==6.5.5->google-colab) (2.21.1)\n",
            "Requirement already satisfied: jsonschema>=2.6 in /usr/local/lib/python3.11/dist-packages (from nbformat->notebook==6.5.5->google-colab) (4.23.0)\n",
            "Requirement already satisfied: ptyprocess>=0.5 in /usr/local/lib/python3.11/dist-packages (from pexpect>4.3->ipython==7.34.0->google-colab) (0.7.0)\n",
            "Requirement already satisfied: wcwidth in /usr/local/lib/python3.11/dist-packages (from prompt-toolkit!=3.0.0,!=3.0.1,<3.1.0,>=2.0.0->ipython==7.34.0->google-colab) (0.2.13)\n",
            "Requirement already satisfied: pyasn1<0.7.0,>=0.4.6 in /usr/local/lib/python3.11/dist-packages (from pyasn1-modules>=0.2.1->google-auth==2.38.0->google-colab) (0.6.1)\n",
            "Requirement already satisfied: six>=1.5 in /usr/local/lib/python3.11/dist-packages (from python-dateutil>=2.1->ipyparallel==8.8.0->google-colab) (1.17.0)\n",
            "Requirement already satisfied: sniffio>=1.1 in /usr/local/lib/python3.11/dist-packages (from anyio->httpx~=0.27->python-telegram-bot) (1.3.1)\n",
            "Requirement already satisfied: argon2-cffi-bindings in /usr/local/lib/python3.11/dist-packages (from argon2-cffi->notebook==6.5.5->google-colab) (21.2.0)\n",
            "Requirement already satisfied: webencodings in /usr/local/lib/python3.11/dist-packages (from bleach!=5.0.0->bleach[css]!=5.0.0->nbconvert>=5->notebook==6.5.5->google-colab) (0.5.1)\n",
            "Requirement already satisfied: tinycss2<1.5,>=1.1.0 in /usr/local/lib/python3.11/dist-packages (from bleach[css]!=5.0.0->nbconvert>=5->notebook==6.5.5->google-colab) (1.4.0)\n",
            "Requirement already satisfied: attrs>=22.2.0 in /usr/local/lib/python3.11/dist-packages (from jsonschema>=2.6->nbformat->notebook==6.5.5->google-colab) (25.1.0)\n",
            "Requirement already satisfied: jsonschema-specifications>=2023.03.6 in /usr/local/lib/python3.11/dist-packages (from jsonschema>=2.6->nbformat->notebook==6.5.5->google-colab) (2024.10.1)\n",
            "Requirement already satisfied: referencing>=0.28.4 in /usr/local/lib/python3.11/dist-packages (from jsonschema>=2.6->nbformat->notebook==6.5.5->google-colab) (0.36.2)\n",
            "Requirement already satisfied: rpds-py>=0.7.1 in /usr/local/lib/python3.11/dist-packages (from jsonschema>=2.6->nbformat->notebook==6.5.5->google-colab) (0.23.1)\n",
            "Requirement already satisfied: jupyter-server<3,>=1.8 in /usr/local/lib/python3.11/dist-packages (from notebook-shim>=0.2.3->nbclassic>=0.4.7->notebook==6.5.5->google-colab) (1.24.0)\n",
            "Requirement already satisfied: cffi>=1.0.1 in /usr/local/lib/python3.11/dist-packages (from argon2-cffi-bindings->argon2-cffi->notebook==6.5.5->google-colab) (1.17.1)\n",
            "Requirement already satisfied: soupsieve>1.2 in /usr/local/lib/python3.11/dist-packages (from beautifulsoup4->nbconvert>=5->notebook==6.5.5->google-colab) (2.6)\n",
            "Requirement already satisfied: typing-extensions>=4.0.0 in /usr/local/lib/python3.11/dist-packages (from beautifulsoup4->nbconvert>=5->notebook==6.5.5->google-colab) (4.12.2)\n",
            "Requirement already satisfied: pycparser in /usr/local/lib/python3.11/dist-packages (from cffi>=1.0.1->argon2-cffi-bindings->argon2-cffi->notebook==6.5.5->google-colab) (2.22)\n",
            "Requirement already satisfied: websocket-client in /usr/local/lib/python3.11/dist-packages (from jupyter-server<3,>=1.8->notebook-shim>=0.2.3->nbclassic>=0.4.7->notebook==6.5.5->google-colab) (1.8.0)\n"
          ]
        }
      ]
    },
    {
      "cell_type": "code",
      "source": [
        "!mkdir -p '/content/drive/MyDrive/MyTasks'"
      ],
      "metadata": {
        "id": "SmhIN1BaHAqv"
      },
      "execution_count": 20,
      "outputs": []
    },
    {
      "cell_type": "code",
      "source": [
        "!pip install python-telegram-bot --upgrade\n",
        "!pip install nest-asyncio"
      ],
      "metadata": {
        "colab": {
          "base_uri": "https://localhost:8080/"
        },
        "id": "cFsTqWSUIo2u",
        "outputId": "9aa9ac04-6098-4533-b7f9-065ba6341cbd"
      },
      "execution_count": 25,
      "outputs": [
        {
          "output_type": "stream",
          "name": "stdout",
          "text": [
            "Requirement already satisfied: python-telegram-bot in /usr/local/lib/python3.11/dist-packages (21.11.1)\n",
            "Requirement already satisfied: httpx~=0.27 in /usr/local/lib/python3.11/dist-packages (from python-telegram-bot) (0.28.1)\n",
            "Requirement already satisfied: anyio in /usr/local/lib/python3.11/dist-packages (from httpx~=0.27->python-telegram-bot) (3.7.1)\n",
            "Requirement already satisfied: certifi in /usr/local/lib/python3.11/dist-packages (from httpx~=0.27->python-telegram-bot) (2025.1.31)\n",
            "Requirement already satisfied: httpcore==1.* in /usr/local/lib/python3.11/dist-packages (from httpx~=0.27->python-telegram-bot) (1.0.7)\n",
            "Requirement already satisfied: idna in /usr/local/lib/python3.11/dist-packages (from httpx~=0.27->python-telegram-bot) (3.10)\n",
            "Requirement already satisfied: h11<0.15,>=0.13 in /usr/local/lib/python3.11/dist-packages (from httpcore==1.*->httpx~=0.27->python-telegram-bot) (0.14.0)\n",
            "Requirement already satisfied: sniffio>=1.1 in /usr/local/lib/python3.11/dist-packages (from anyio->httpx~=0.27->python-telegram-bot) (1.3.1)\n",
            "Requirement already satisfied: nest-asyncio in /usr/local/lib/python3.11/dist-packages (1.6.0)\n"
          ]
        }
      ]
    },
    {
      "cell_type": "code",
      "source": [
        "!pip install python-telegram-bot --upgrade\n",
        "!pip install nest-asyncio pytz"
      ],
      "metadata": {
        "colab": {
          "base_uri": "https://localhost:8080/"
        },
        "id": "aNSl8PsYNtD7",
        "outputId": "5d9e5a9f-3771-4133-c865-87b7c6d2a0d6"
      },
      "execution_count": 34,
      "outputs": [
        {
          "output_type": "stream",
          "name": "stdout",
          "text": [
            "Requirement already satisfied: python-telegram-bot in /usr/local/lib/python3.11/dist-packages (21.11.1)\n",
            "Requirement already satisfied: httpx~=0.27 in /usr/local/lib/python3.11/dist-packages (from python-telegram-bot) (0.28.1)\n",
            "Requirement already satisfied: anyio in /usr/local/lib/python3.11/dist-packages (from httpx~=0.27->python-telegram-bot) (3.7.1)\n",
            "Requirement already satisfied: certifi in /usr/local/lib/python3.11/dist-packages (from httpx~=0.27->python-telegram-bot) (2025.1.31)\n",
            "Requirement already satisfied: httpcore==1.* in /usr/local/lib/python3.11/dist-packages (from httpx~=0.27->python-telegram-bot) (1.0.7)\n",
            "Requirement already satisfied: idna in /usr/local/lib/python3.11/dist-packages (from httpx~=0.27->python-telegram-bot) (3.10)\n",
            "Requirement already satisfied: h11<0.15,>=0.13 in /usr/local/lib/python3.11/dist-packages (from httpcore==1.*->httpx~=0.27->python-telegram-bot) (0.14.0)\n",
            "Requirement already satisfied: sniffio>=1.1 in /usr/local/lib/python3.11/dist-packages (from anyio->httpx~=0.27->python-telegram-bot) (1.3.1)\n",
            "Requirement already satisfied: nest-asyncio in /usr/local/lib/python3.11/dist-packages (1.6.0)\n",
            "Requirement already satisfied: pytz in /usr/local/lib/python3.11/dist-packages (2025.1)\n"
          ]
        }
      ]
    },
    {
      "cell_type": "code",
      "execution_count": null,
      "metadata": {
        "colab": {
          "base_uri": "https://localhost:8080/"
        },
        "id": "gntWlrrrVHPJ",
        "outputId": "3d89e4d7-0951-4fc2-86c3-f7689fc31ae6"
      },
      "outputs": [
        {
          "output_type": "stream",
          "name": "stdout",
          "text": [
            "Подключение к Google Drive...\n",
            "Mounted at /content/drive\n"
          ]
        }
      ],
      "source": [
        "# Отключаем warnings для asyncio\n",
        "import warnings\n",
        "warnings.filterwarnings(\"ignore\", category=RuntimeWarning, module=\"asyncio\")\n",
        "\n",
        "import nest_asyncio\n",
        "import asyncio\n",
        "import logging\n",
        "import json\n",
        "import os\n",
        "import random\n",
        "from datetime import datetime\n",
        "from telegram import Update, InlineKeyboardButton, InlineKeyboardMarkup, ReplyKeyboardRemove\n",
        "from telegram.ext import ApplicationBuilder, CommandHandler, ContextTypes, MessageHandler, filters, CallbackQueryHandler\n",
        "from telegram.error import TelegramError, BadRequest\n",
        "from google.colab import drive\n",
        "\n",
        "# Применяем nest_asyncio\n",
        "nest_asyncio.apply()\n",
        "\n",
        "# Константы\n",
        "CURRENT_USER = \"zengziaa\"\n",
        "UTC_NOW = datetime.strptime(\"2025-03-06 03:32:28\", \"%Y-%m-%d %H:%M:%S\")\n",
        "BOT_TOKEN = '7862082831:AAGEgwKbukmmjMk7Mx9vKs3pSYn-IAVCCA4'\n",
        "CHANNEL_USERNAME = \"@stiho_terapiya\"\n",
        "CHANNEL_URL = \"https://t.me/stiho_terapiya\"\n",
        "\n",
        "# Мотивирующие фразы\n",
        "MOTIVATIONAL_QUOTES = [\n",
        "    \"🌟 Каждая задача - шаг к успеху!\",\n",
        "    \"✨ Планирование - путь к достижению целей!\",\n",
        "    \"💫 Организованность сегодня - успех завтра!\",\n",
        "    \"🎯 Маленькие шаги ведут к большим победам!\",\n",
        "    \"⭐️ Ты на верном пути!\",\n",
        "    \"🌈 Твои цели достижимы!\",\n",
        "    \"🚀 Действуй, и всё получится!\",\n",
        "    \"💪 Ты справишься с любой задачей!\"\n",
        "]\n",
        "\n",
        "TASK_LIST_QUOTES = [\n",
        "    \"📝 Твои задачи - твои достижения!\",\n",
        "    \"🎯 Каждая выполненная задача - победа!\",\n",
        "    \"✅ Прогресс начинается с планирования!\",\n",
        "    \"📋 Организованность - ключ к успеху!\",\n",
        "    \"💫 Ты контролируешь свой путь к цели!\",\n",
        "    \"🌟 Смотри, сколько уже запланировано!\",\n",
        "    \"⭐️ Твой список задач впечатляет!\",\n",
        "    \"🚀 Ты на пути к великим свершениям!\"\n",
        "]\n",
        "\n",
        "# Настройка логирования\n",
        "logging.basicConfig(\n",
        "    level=logging.INFO,\n",
        "    format='%(asctime)s - %(name)s - %(levelname)s - %(message)s',\n",
        "    handlers=[logging.StreamHandler()]\n",
        ")\n",
        "logger = logging.getLogger(__name__)\n",
        "\n",
        "# Подключение к Google Drive\n",
        "print(\"Подключение к Google Drive...\")\n",
        "try:\n",
        "    drive.mount('/content/drive', force_remount=True)\n",
        "except Exception as e:\n",
        "    logger.error(f\"Ошибка при монтировании диска: {e}\")\n",
        "\n",
        "# Пути и настройки файлов\n",
        "TASKS_FILE_PATH = '/content/drive/MyDrive/MyTasks/tasks.json'\n",
        "os.makedirs(os.path.dirname(TASKS_FILE_PATH), exist_ok=True)\n",
        "\n",
        "# Глобальный словарь задач\n",
        "tasks = {}\n",
        "\n",
        "def format_date(date_str):\n",
        "    \"\"\"Форматирование даты без времени\"\"\"\n",
        "    date = datetime.strptime(date_str, \"%Y-%m-%d %H:%M:%S\")\n",
        "    return date.strftime(\"%d.%m.%Y\")\n",
        "\n",
        "def format_task_list(user_tasks):\n",
        "    \"\"\"Форматирование списка задач с отступами\"\"\"\n",
        "    formatted_tasks = []\n",
        "    for i, task in enumerate(user_tasks, 1):\n",
        "        formatted_tasks.append(\n",
        "            f\"📌 Задача #{i}:\\n\"\n",
        "            f\"   {task['text']}\\n\"\n",
        "            f\"   📅 Дата: {format_date(task['date'])}\\n\"\n",
        "        )\n",
        "    return \"\\n\".join(formatted_tasks)\n",
        "\n",
        "def migrate_old_tasks(tasks_data):\n",
        "    \"\"\"Преобразование старого формата задач в новый\"\"\"\n",
        "    new_tasks_data = {}\n",
        "    for user_id, user_tasks in tasks_data.items():\n",
        "        new_tasks = []\n",
        "        for task in user_tasks:\n",
        "            if isinstance(task, str):\n",
        "                new_tasks.append({\n",
        "                    'text': task,\n",
        "                    'date': UTC_NOW.strftime(\"%Y-%m-%d %H:%M:%S\")\n",
        "                })\n",
        "            else:\n",
        "                new_tasks.append(task)\n",
        "        new_tasks_data[user_id] = new_tasks\n",
        "    return new_tasks_data\n",
        "\n",
        "def load_tasks():\n",
        "    \"\"\"Загрузка задач из файла\"\"\"\n",
        "    try:\n",
        "        if os.path.exists(TASKS_FILE_PATH):\n",
        "            with open(TASKS_FILE_PATH, 'r', encoding='utf-8') as file:\n",
        "                loaded_tasks = json.load(file)\n",
        "                loaded_tasks = migrate_old_tasks(loaded_tasks)\n",
        "                logger.info(f\"Задачи успешно загружены\")\n",
        "                return loaded_tasks\n",
        "        else:\n",
        "            logger.info(\"Файл с задачами не найден, создаём новый список\")\n",
        "            return {}\n",
        "    except Exception as e:\n",
        "        logger.error(f\"Ошибка при загрузке задач: {e}\")\n",
        "        return {}\n",
        "\n",
        "def save_tasks(tasks_data):\n",
        "    \"\"\"Сохранение задач в файл\"\"\"\n",
        "    try:\n",
        "        with open(TASKS_FILE_PATH, 'w', encoding='utf-8') as file:\n",
        "            json.dump(tasks_data, file, ensure_ascii=False, indent=2)\n",
        "        logger.info(\"Задачи успешно сохранены\")\n",
        "    except Exception as e:\n",
        "        logger.error(f\"Ошибка при сохранении задач: {e}\")\n",
        "\n",
        "def get_inline_keyboard():\n",
        "    \"\"\"Основная клавиатура с кнопками действий\"\"\"\n",
        "    keyboard = [\n",
        "        [\n",
        "            InlineKeyboardButton(\"📝 Добавить задачу\", callback_data='add_task'),\n",
        "            InlineKeyboardButton(\"📋 Список задач\", callback_data='list_tasks')\n",
        "        ],\n",
        "        [\n",
        "            InlineKeyboardButton(\"🗑 Очистить список\", callback_data='clear_tasks'),\n",
        "            InlineKeyboardButton(\"✏️ Редактировать\", callback_data='edit_task')\n",
        "        ],\n",
        "        [\n",
        "            InlineKeyboardButton(\"❌ Удалить задачу\", callback_data='delete_task'),\n",
        "            InlineKeyboardButton(\"❓ Помощь\", callback_data='help')\n",
        "        ]\n",
        "    ]\n",
        "    return InlineKeyboardMarkup(keyboard)\n",
        "\n",
        "def get_subscription_keyboard():\n",
        "    \"\"\"Клавиатура для подписки на канал\"\"\"\n",
        "    keyboard = [\n",
        "        [InlineKeyboardButton(\"📢 Подписаться на канал\", url=CHANNEL_URL)],\n",
        "        [InlineKeyboardButton(\"🔄 Проверить подписку\", callback_data=\"check_subscription\")]\n",
        "    ]\n",
        "    return InlineKeyboardMarkup(keyboard)\n",
        "\n",
        "def get_cancel_keyboard():\n",
        "    \"\"\"Клавиатура с кнопкой отмены\"\"\"\n",
        "    keyboard = [[InlineKeyboardButton(\"❌ Отменить\", callback_data='cancel')]]\n",
        "    return InlineKeyboardMarkup(keyboard)\n",
        "\n",
        "async def check_subscription(update: Update, context: ContextTypes.DEFAULT_TYPE) -> bool:\n",
        "    \"\"\"Проверка подписки пользователя на канал\"\"\"\n",
        "    try:\n",
        "        user_id = update.effective_user.id\n",
        "        logger.info(f\"Проверка подписки для пользователя {user_id}\")\n",
        "\n",
        "        chat_member = await context.bot.get_chat_member(chat_id=CHANNEL_USERNAME, user_id=user_id)\n",
        "        logger.info(f\"Статус подписки: {chat_member.status}\")\n",
        "\n",
        "        if chat_member.status in ['member', 'administrator', 'creator']:\n",
        "            logger.info(f\"Пользователь {user_id} подписан\")\n",
        "            return True\n",
        "\n",
        "        logger.info(f\"Пользователь {user_id} не подписан\")\n",
        "        return False\n",
        "\n",
        "    except Exception as e:\n",
        "        logger.error(f\"Ошибка при проверке подписки: {e}\")\n",
        "        return False\n",
        "\n",
        "async def start(update: Update, context: ContextTypes.DEFAULT_TYPE):\n",
        "    \"\"\"Обработчик команды /start\"\"\"\n",
        "    user_id = str(update.effective_user.id)\n",
        "    logger.info(f\"Команда /start от пользователя {user_id}\")\n",
        "\n",
        "    # Удаляем предыдущее сообщение бота\n",
        "    if 'last_bot_message' in context.user_data:\n",
        "        try:\n",
        "            await context.user_data['last_bot_message'].delete()\n",
        "        except TelegramError as e:\n",
        "            logger.error(f\"Ошибка при удалении сообщения: {e}\")\n",
        "        del context.user_data['last_bot_message']\n",
        "\n",
        "    # Проверка подписки\n",
        "    is_subscribed = await check_subscription(update, context)\n",
        "    if not is_subscribed:\n",
        "        context.user_data['last_bot_message'] = await update.message.reply_text(\n",
        "            '👋 Привет! Для использования бота необходимо подписаться на наш канал.\\n\\n'\n",
        "            f'📢 Подпишитесь на {CHANNEL_USERNAME} и нажмите \"Проверить подписку\"',\n",
        "            reply_markup=get_subscription_keyboard()\n",
        "        )\n",
        "        return\n",
        "\n",
        "    # Инициализация списка задач\n",
        "    if user_id not in tasks:\n",
        "        tasks[user_id] = []\n",
        "\n",
        "    # Приветственное сообщение\n",
        "    context.user_data['last_bot_message'] = await update.message.reply_text(\n",
        "        'Привет! 🌟\\n\\n'\n",
        "        'Рад видеть вас в вашем персональном планировщике задач!\\n\\n'\n",
        "        '🎯 Организуйте свои цели\\n'\n",
        "        '📝 Управляйте задачами\\n'\n",
        "        '✨ Достигайте большего\\n\\n'\n",
        "        'Выберите действие: 👇',\n",
        "        reply_markup=get_inline_keyboard()\n",
        "    )\n",
        "\n",
        "async def button_callback(update: Update, context: ContextTypes.DEFAULT_TYPE):\n",
        "    \"\"\"Обработчик нажатий на кнопки\"\"\"\n",
        "    query = update.callback_query\n",
        "    await query.answer()\n",
        "\n",
        "    user_id = str(query.from_user.id)\n",
        "    logger.info(f\"Callback от пользователя {user_id}: {query.data}\")\n",
        "\n",
        "    # Удаляем предыдущее сообщение бота\n",
        "    try:\n",
        "        await query.message.delete()\n",
        "    except TelegramError as e:\n",
        "        logger.error(f\"Ошибка при удалении сообщения: {e}\")\n",
        "\n",
        "    # Обработка отмены\n",
        "    if query.data == 'cancel':\n",
        "        context.user_data['waiting_for_task'] = False\n",
        "        context.user_data['waiting_for_delete'] = False\n",
        "        context.user_data['waiting_for_edit'] = False\n",
        "\n",
        "        context.user_data['last_bot_message'] = await query.message.reply_text(\n",
        "            '✅ Действие отменено.\\n\\n'\n",
        "            'Выберите действие:',\n",
        "            reply_markup=get_inline_keyboard()\n",
        "        )\n",
        "        return\n",
        "\n",
        "    # Проверка подписки\n",
        "    if query.data == \"check_subscription\":\n",
        "        is_subscribed = await check_subscription(update, context)\n",
        "\n",
        "        if is_subscribed:\n",
        "            context.user_data['last_bot_message'] = await query.message.reply_text(\n",
        "                'Отлично! Подписка подтверждена ✅\\n\\n'\n",
        "                'Теперь вы можете использовать все функции бота.\\n'\n",
        "                'Выберите действие: 👇',\n",
        "                reply_markup=get_inline_keyboard()\n",
        "            )\n",
        "        else:\n",
        "            context.user_data['last_bot_message'] = await query.message.reply_text(\n",
        "                '❌ Подписка не обнаружена.\\n\\n'\n",
        "                'Пожалуйста:\\n'\n",
        "                f'1. Нажмите кнопку \"Подписаться на канал\"\\n'\n",
        "                f'2. Подпишитесь на канал {CHANNEL_USERNAME}\\n'\n",
        "                '3. Вернитесь в бот\\n'\n",
        "                '4. Нажмите \"Проверить подписку\"',\n",
        "                reply_markup=get_subscription_keyboard()\n",
        "            )\n",
        "        return\n",
        "\n",
        "    # Проверка подписки для всех остальных действий\n",
        "    is_subscribed = await check_subscription(update, context)\n",
        "    if not is_subscribed:\n",
        "        context.user_data['last_bot_message'] = await query.message.reply_text(\n",
        "            '❌ Для использования бота необходимо подписаться на канал.\\n\\n'\n",
        "            f'Подпишитесь на {CHANNEL_USERNAME} и нажмите \"Проверить подписку\"',\n",
        "            reply_markup=get_subscription_keyboard()\n",
        "        )\n",
        "        return\n",
        "\n",
        "    # Инициализация списка задач\n",
        "    if user_id not in tasks:\n",
        "        tasks[user_id] = []\n",
        "\n",
        "    # Обработка различных действий\n",
        "    if query.data == 'add_task':\n",
        "        motivation = random.choice(MOTIVATIONAL_QUOTES)\n",
        "        context.user_data['waiting_for_task'] = True\n",
        "        context.user_data['last_bot_message'] = await query.message.reply_text(\n",
        "            f'{motivation}\\n\\n'\n",
        "            'Пожалуйста, введите задачу:',\n",
        "            reply_markup=get_cancel_keyboard()\n",
        "        )\n",
        "\n",
        "    elif query.data == 'list_tasks':\n",
        "        motivation = random.choice(TASK_LIST_QUOTES)\n",
        "        if tasks.get(user_id, []):\n",
        "            task_list = format_task_list(tasks[user_id])\n",
        "            context.user_data['last_bot_message'] = await query.message.reply_text(\n",
        "                f'{motivation}\\n\\n'\n",
        "                f'📋 Ваши задачи:\\n\\n{task_list}',\n",
        "                reply_markup=get_inline_keyboard()\n",
        "            )\n",
        "        else:\n",
        "            context.user_data['last_bot_message'] = await query.message.reply_text(\n",
        "                f'{motivation}\\n\\n'\n",
        "                '📋 Список задач пуст.',\n",
        "                reply_markup=get_inline_keyboard()\n",
        "            )\n",
        "\n",
        "    elif query.data == 'clear_tasks':\n",
        "        tasks[user_id] = []\n",
        "        save_tasks(tasks)\n",
        "        context.user_data['last_bot_message'] = await query.message.reply_text(\n",
        "            '🗑 Список задач очищен.',\n",
        "            reply_markup=get_inline_keyboard()\n",
        "        )\n",
        "\n",
        "    elif query.data == 'delete_task':\n",
        "        if tasks.get(user_id, []):\n",
        "            task_list = format_task_list(tasks[user_id])\n",
        "            context.user_data['last_bot_message'] = await query.message.reply_text(\n",
        "                f'Выберите номер задачи для удаления:\\n\\n{task_list}\\n'\n",
        "                'Введите номер задачи:',\n",
        "                reply_markup=get_cancel_keyboard()\n",
        "            )\n",
        "            context.user_data['waiting_for_delete'] = True\n",
        "        else:\n",
        "            context.user_data['last_bot_message'] = await query.message.reply_text(\n",
        "                'Список задач пуст.',\n",
        "                reply_markup=get_inline_keyboard()\n",
        "            )\n",
        "\n",
        "    elif query.data == 'edit_task':\n",
        "        if tasks.get(user_id, []):\n",
        "            task_list = format_task_list(tasks[user_id])\n",
        "            context.user_data['last_bot_message'] = await query.message.reply_text(\n",
        "                f'Текущие задачи:\\n\\n{task_list}\\n'\n",
        "                'Для редактирования используйте формат:\\n'\n",
        "                'номер;новый текст\\n\\n'\n",
        "                'Например: 1;Новый текст задачи',\n",
        "                reply_markup=get_cancel_keyboard()\n",
        "            )\n",
        "            context.user_data['waiting_for_edit'] = True\n",
        "        else:\n",
        "            context.user_data['last_bot_message'] = await query.message.reply_text(\n",
        "                'Список задач пуст.',\n",
        "                reply_markup=get_inline_keyboard()\n",
        "            )\n",
        "\n",
        "    elif query.data == 'help':\n",
        "        help_text = (\n",
        "            'Как пользоваться планировщиком:\\n\\n'\n",
        "            '📝 Добавить задачу - создание новой задачи\\n'\n",
        "            '📋 Список задач - просмотр всех задач\\n'\n",
        "            '🗑 Очистить список - удаление всех задач\\n'\n",
        "            '❌ Удалить задачу - удаление выбранной задачи\\n'\n",
        "            '✏️ Редактировать - изменение существующей задачи\\n\\n'\n",
        "            'Чтобы вернуться к этому меню, используйте команду /start'\n",
        "        )\n",
        "        context.user_data['last_bot_message'] = await query.message.reply_text(\n",
        "            help_text,\n",
        "            reply_markup=get_inline_keyboard()\n",
        "        )\n",
        "\n",
        "async def handle_message(update: Update, context: ContextTypes.DEFAULT_TYPE):\n",
        "    \"\"\"Обработчик текстовых сообщений\"\"\"\n",
        "    user_id = str(update.effective_user.id)\n",
        "    logger.info(f\"Сообщение от пользователя {user_id}\")\n",
        "\n",
        "    # Удаляем предыдущее сообщение бота\n",
        "    if 'last_bot_message' in context.user_data:\n",
        "        try:\n",
        "            await context.user_data['last_bot_message'].delete()\n",
        "        except TelegramError as e:\n",
        "            logger.error(f\"Ошибка при удалении сообщения: {e}\")\n",
        "\n",
        "    # Проверка подписки\n",
        "    is_subscribed = await check_subscription(update, context)\n",
        "    if not is_subscribed:\n",
        "        context.user_data['last_bot_message'] = await update.message.reply_text(\n",
        "            '❌ Для использования бота необходимо подписаться на канал.\\n\\n'\n",
        "            f'Подпишитесь на {CHANNEL_USERNAME} и нажмите \"Проверить подписку\"',\n",
        "            reply_markup=get_subscription_keyboard()\n",
        "        )\n",
        "        return\n",
        "\n",
        "    text = update.message.text.strip()\n",
        "\n",
        "    # Обработка добавления задачи\n",
        "    if context.user_data.get('waiting_for_task'):\n",
        "        logger.info(f\"Попытка добавления задачи для пользователя {user_id}: {text}\")\n",
        "        new_task = {\n",
        "            'text': text,\n",
        "            'date': UTC_NOW.strftime(\"%Y-%m-%d %H:%M:%S\")\n",
        "        }\n",
        "        if user_id not in tasks:\n",
        "            tasks[user_id] = []\n",
        "        tasks[user_id].append(new_task)\n",
        "        save_tasks(tasks)\n",
        "\n",
        "        context.user_data['last_bot_message'] = await update.message.reply_text(\n",
        "            f'✅ Задача добавлена!\\n\\n'\n",
        "            f'📝 Текст: {text}\\n'\n",
        "            f'📅 Дата: {format_date(new_task[\"date\"])}\\n\\n'\n",
        "            'Выберите следующее действие:',\n",
        "            reply_markup=get_inline_keyboard()\n",
        "        )\n",
        "        context.user_data['waiting_for_task'] = False\n",
        "\n",
        "    # Обработка удаления задачи\n",
        "    elif context.user_data.get('waiting_for_delete'):\n",
        "        try:\n",
        "            task_index = int(text) - 1\n",
        "            if 0 <= task_index < len(tasks[user_id]):\n",
        "                deleted_task = tasks[user_id].pop(task_index)\n",
        "                save_tasks(tasks)\n",
        "                context.user_data['last_bot_message'] = await update.message.reply_text(\n",
        "                    f'✅ Задача удалена!\\n\\n'\n",
        "                    f'📝 Текст: {deleted_task[\"text\"]}\\n'\n",
        "                    f'📅 Дата создания: {format_date(deleted_task[\"date\"])}\\n\\n'\n",
        "                    f'Выберите следующее действие:',\n",
        "                    reply_markup=get_inline_keyboard()\n",
        "                )\n",
        "            else:\n",
        "                context.user_data['last_bot_message'] = await update.message.reply_text(\n",
        "                    '❌ Ошибка: Неверный номер задачи.\\n\\n'\n",
        "                    'Выберите действие:',\n",
        "                    reply_markup=get_inline_keyboard()\n",
        "                )\n",
        "        except ValueError:\n",
        "            context.user_data['last_bot_message'] = await update.message.reply_text(\n",
        "                '❌ Ошибка: Введите числовой номер задачи.\\n\\n'\n",
        "                'Выберите действие:',\n",
        "                reply_markup=get_inline_keyboard()\n",
        "            )\n",
        "        context.user_data['waiting_for_delete'] = False\n",
        "\n",
        "    # Обработка редактирования задачи\n",
        "    elif context.user_data.get('waiting_for_edit'):\n",
        "        try:\n",
        "            if ';' not in text:\n",
        "                raise ValueError(\"Неверный формат\")\n",
        "\n",
        "            parts = text.split(';', 1)\n",
        "            task_num, new_text = parts[0].strip(), parts[1].strip()\n",
        "\n",
        "            if not new_text:\n",
        "                raise ValueError(\"Пустой текст задачи\")\n",
        "\n",
        "            task_index = int(task_num) - 1\n",
        "\n",
        "            if 0 <= task_index < len(tasks[user_id]):\n",
        "                old_task = tasks[user_id][task_index]['text']\n",
        "                tasks[user_id][task_index] = {\n",
        "                    'text': new_text,\n",
        "                    'date': UTC_NOW.strftime(\"%Y-%m-%d %H:%M:%S\")\n",
        "                }\n",
        "                save_tasks(tasks)\n",
        "\n",
        "                context.user_data['last_bot_message'] = await update.message.reply_text(\n",
        "                    f'✅ Задача изменена!\\n\\n'\n",
        "                    f'Было: \"{old_task}\"\\n'\n",
        "                    f'Стало: \"{new_text}\"\\n'\n",
        "                    f'📅 Дата изменения: {format_date(tasks[user_id][task_index][\"date\"])}\\n\\n'\n",
        "                    f'Выберите следующее действие:',\n",
        "                    reply_markup=get_inline_keyboard()\n",
        "                )\n",
        "            else:\n",
        "                context.user_data['last_bot_message'] = await update.message.reply_text(\n",
        "                    f'❌ Ошибка: Задачи с номером {task_num} не существует.\\n'\n",
        "                    f'Доступны задачи с 1 по {len(tasks[user_id])}.',\n",
        "                    reply_markup=get_inline_keyboard()\n",
        "                )\n",
        "        except ValueError as e:\n",
        "            error_message = \"Неверный формат номера задачи\" if str(e) == \"invalid literal for int() with base 10\" else str(e)\n",
        "            context.user_data['last_bot_message'] = await update.message.reply_text(\n",
        "                f'❌ Ошибка: {error_message}\\n\\n'\n",
        "                f'Используйте формат:\\n'\n",
        "                f'номер;новый текст\\n\\n'\n",
        "                f'Например: 1;Новый текст задачи',\n",
        "                reply_markup=get_inline_keyboard()\n",
        "            )\n",
        "        except Exception as e:\n",
        "            logger.error(f\"Ошибка при редактировании задачи: {e}\")\n",
        "            context.user_data['last_bot_message'] = await update.message.reply_text(\n",
        "                '❌ Произошла ошибка при редактировании задачи.',\n",
        "                reply_markup=get_inline_keyboard()\n",
        "            )\n",
        "        finally:\n",
        "            context.user_data['waiting_for_edit'] = False\n",
        "\n",
        "    else:\n",
        "        context.user_data['last_bot_message'] = await update.message.reply_text(\n",
        "            'Выберите действие:',\n",
        "            reply_markup=get_inline_keyboard()\n",
        "        )\n",
        "\n",
        "def run_polling():\n",
        "    \"\"\"Запуск бота\"\"\"\n",
        "    global tasks\n",
        "    tasks = load_tasks()\n",
        "\n",
        "    application = ApplicationBuilder().token(BOT_TOKEN).build()\n",
        "\n",
        "    # Регистрация обработчиков\n",
        "    application.add_handler(CommandHandler(\"start\", start))\n",
        "    application.add_handler(CallbackQueryHandler(button_callback))\n",
        "    application.add_handler(MessageHandler(filters.TEXT & ~filters.COMMAND, handle_message))\n",
        "\n",
        "    logger.info(\"Бот запускается...\")\n",
        "\n",
        "    application.run_polling(allowed_updates=Update.ALL_TYPES)\n",
        "\n",
        "if __name__ == '__main__':\n",
        "    try:\n",
        "        run_polling()\n",
        "    except KeyboardInterrupt:\n",
        "        logger.info(\"\\nБот остановлен пользователем\")\n",
        "    except Exception as e:\n",
        "        logger.error(f\"\\nПроизошла ошибка: {e}\")\n",
        "    finally:\n",
        "        save_tasks(tasks)"
      ]
    }
  ],
  "metadata": {
    "colab": {
      "provenance": [],
      "toc_visible": true
    },
    "kernelspec": {
      "display_name": "Python 3",
      "name": "python3"
    },
    "language_info": {
      "name": "python"
    }
  },
  "nbformat": 4,
  "nbformat_minor": 0
}